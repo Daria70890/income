{
 "cells": [
  {
   "cell_type": "code",
   "execution_count": 1,
   "id": "5ee3a24f",
   "metadata": {},
   "outputs": [],
   "source": [
    "import numpy as np\n",
    "import pandas as pd\n",
    "import matplotlib.pyplot as plt\n",
    "import seaborn as sns\n",
    "\n",
    "\n",
    "from sklearn.preprocessing import MinMaxScaler, PolynomialFeatures\n",
    "from sklearn.model_selection import train_test_split, cross_val_score, GridSearchCV, KFold \n",
    "from sklearn.linear_model import ElasticNet, Ridge, Lasso, LinearRegression, LogisticRegression\n",
    "from sklearn.metrics import mean_squared_error, ConfusionMatrixDisplay,roc_auc_score,roc_curve\n",
    "from sklearn.preprocessing import OneHotEncoder, LabelEncoder\n",
    "from sklearn.compose import ColumnTransformer\n",
    "from sklearn.preprocessing import StandardScaler\n",
    "from sklearn.model_selection import GridSearchCV\n",
    "from sklearn.svm import SVC\n",
    "from sklearn.metrics import mean_squared_error,auc\n",
    "from sklearn.model_selection import ShuffleSplit\n",
    "from sklearn.model_selection import validation_curve\n",
    "from sklearn.tree import DecisionTreeClassifier\n",
    "from sklearn.ensemble import RandomForestRegressor, GradientBoostingClassifier\n",
    "from sklearn.neighbors import KNeighborsClassifier\n",
    "from sklearn import metrics\n",
    "from sklearn.metrics import accuracy_score, confusion_matrix, classification_report, precision_recall_fscore_support, precision_score, f1_score\n",
    "from sklearn.pipeline import Pipeline, make_pipeline"
   ]
  },
  {
   "cell_type": "code",
   "execution_count": 2,
   "id": "e354218d",
   "metadata": {
    "scrolled": true
   },
   "outputs": [
    {
     "data": {
      "text/html": [
       "<div>\n",
       "<style scoped>\n",
       "    .dataframe tbody tr th:only-of-type {\n",
       "        vertical-align: middle;\n",
       "    }\n",
       "\n",
       "    .dataframe tbody tr th {\n",
       "        vertical-align: top;\n",
       "    }\n",
       "\n",
       "    .dataframe thead th {\n",
       "        text-align: right;\n",
       "    }\n",
       "</style>\n",
       "<table border=\"1\" class=\"dataframe\">\n",
       "  <thead>\n",
       "    <tr style=\"text-align: right;\">\n",
       "      <th></th>\n",
       "      <th>age</th>\n",
       "      <th>workclass</th>\n",
       "      <th>fnlwgt</th>\n",
       "      <th>education</th>\n",
       "      <th>education-num</th>\n",
       "      <th>marital-status</th>\n",
       "      <th>occupation</th>\n",
       "      <th>relationship</th>\n",
       "      <th>race</th>\n",
       "      <th>sex</th>\n",
       "      <th>capital-gain</th>\n",
       "      <th>capital-loss</th>\n",
       "      <th>hours-per-week</th>\n",
       "      <th>native-country</th>\n",
       "      <th>income</th>\n",
       "    </tr>\n",
       "  </thead>\n",
       "  <tbody>\n",
       "    <tr>\n",
       "      <th>0</th>\n",
       "      <td>37</td>\n",
       "      <td>Self-emp-not-inc</td>\n",
       "      <td>112497</td>\n",
       "      <td>Masters</td>\n",
       "      <td>14</td>\n",
       "      <td>Married-civ-spouse</td>\n",
       "      <td>Exec-managerial</td>\n",
       "      <td>Husband</td>\n",
       "      <td>White</td>\n",
       "      <td>Male</td>\n",
       "      <td>0</td>\n",
       "      <td>0</td>\n",
       "      <td>50</td>\n",
       "      <td>United-States</td>\n",
       "      <td>&gt;50K</td>\n",
       "    </tr>\n",
       "    <tr>\n",
       "      <th>1</th>\n",
       "      <td>39</td>\n",
       "      <td>Private</td>\n",
       "      <td>278557</td>\n",
       "      <td>Assoc-voc</td>\n",
       "      <td>11</td>\n",
       "      <td>Married-civ-spouse</td>\n",
       "      <td>Craft-repair</td>\n",
       "      <td>Husband</td>\n",
       "      <td>White</td>\n",
       "      <td>Male</td>\n",
       "      <td>0</td>\n",
       "      <td>1628</td>\n",
       "      <td>48</td>\n",
       "      <td>United-States</td>\n",
       "      <td>&lt;=50K</td>\n",
       "    </tr>\n",
       "  </tbody>\n",
       "</table>\n",
       "</div>"
      ],
      "text/plain": [
       "   age         workclass  fnlwgt  education  education-num  \\\n",
       "0   37  Self-emp-not-inc  112497    Masters             14   \n",
       "1   39           Private  278557  Assoc-voc             11   \n",
       "\n",
       "       marital-status       occupation relationship   race   sex  \\\n",
       "0  Married-civ-spouse  Exec-managerial      Husband  White  Male   \n",
       "1  Married-civ-spouse     Craft-repair      Husband  White  Male   \n",
       "\n",
       "   capital-gain  capital-loss  hours-per-week native-country income  \n",
       "0             0             0              50  United-States   >50K  \n",
       "1             0          1628              48  United-States  <=50K  "
      ]
     },
     "metadata": {},
     "output_type": "display_data"
    },
    {
     "data": {
      "text/plain": [
       "age               0\n",
       "workclass         0\n",
       "fnlwgt            0\n",
       "education         0\n",
       "education-num     0\n",
       "marital-status    0\n",
       "occupation        0\n",
       "relationship      0\n",
       "race              0\n",
       "sex               0\n",
       "capital-gain      0\n",
       "capital-loss      0\n",
       "hours-per-week    0\n",
       "native-country    0\n",
       "income            0\n",
       "dtype: int64"
      ]
     },
     "metadata": {},
     "output_type": "display_data"
    },
    {
     "data": {
      "text/plain": [
       "Index(['age', 'workclass', 'fnlwgt', 'education', 'education-num',\n",
       "       'marital-status', 'occupation', 'relationship', 'race', 'sex',\n",
       "       'capital-gain', 'capital-loss', 'hours-per-week', 'native-country',\n",
       "       'income'],\n",
       "      dtype='object')"
      ]
     },
     "metadata": {},
     "output_type": "display_data"
    },
    {
     "data": {
      "text/html": [
       "<div>\n",
       "<style scoped>\n",
       "    .dataframe tbody tr th:only-of-type {\n",
       "        vertical-align: middle;\n",
       "    }\n",
       "\n",
       "    .dataframe tbody tr th {\n",
       "        vertical-align: top;\n",
       "    }\n",
       "\n",
       "    .dataframe thead th {\n",
       "        text-align: right;\n",
       "    }\n",
       "</style>\n",
       "<table border=\"1\" class=\"dataframe\">\n",
       "  <thead>\n",
       "    <tr style=\"text-align: right;\">\n",
       "      <th></th>\n",
       "      <th>age</th>\n",
       "      <th>workclass</th>\n",
       "      <th>fnlwgt</th>\n",
       "      <th>education</th>\n",
       "      <th>education-num</th>\n",
       "      <th>marital-status</th>\n",
       "      <th>occupation</th>\n",
       "      <th>relationship</th>\n",
       "      <th>race</th>\n",
       "      <th>sex</th>\n",
       "      <th>capital-gain</th>\n",
       "      <th>capital-loss</th>\n",
       "      <th>hours-per-week</th>\n",
       "      <th>native-country</th>\n",
       "      <th>income</th>\n",
       "    </tr>\n",
       "  </thead>\n",
       "  <tbody>\n",
       "    <tr>\n",
       "      <th>0</th>\n",
       "      <td>37</td>\n",
       "      <td>6</td>\n",
       "      <td>112497</td>\n",
       "      <td>12</td>\n",
       "      <td>14</td>\n",
       "      <td>2</td>\n",
       "      <td>4</td>\n",
       "      <td>0</td>\n",
       "      <td>4</td>\n",
       "      <td>1</td>\n",
       "      <td>0</td>\n",
       "      <td>0</td>\n",
       "      <td>50</td>\n",
       "      <td>39</td>\n",
       "      <td>1</td>\n",
       "    </tr>\n",
       "    <tr>\n",
       "      <th>1</th>\n",
       "      <td>39</td>\n",
       "      <td>4</td>\n",
       "      <td>278557</td>\n",
       "      <td>8</td>\n",
       "      <td>11</td>\n",
       "      <td>2</td>\n",
       "      <td>3</td>\n",
       "      <td>0</td>\n",
       "      <td>4</td>\n",
       "      <td>1</td>\n",
       "      <td>0</td>\n",
       "      <td>1628</td>\n",
       "      <td>48</td>\n",
       "      <td>39</td>\n",
       "      <td>0</td>\n",
       "    </tr>\n",
       "    <tr>\n",
       "      <th>2</th>\n",
       "      <td>33</td>\n",
       "      <td>4</td>\n",
       "      <td>173858</td>\n",
       "      <td>9</td>\n",
       "      <td>13</td>\n",
       "      <td>2</td>\n",
       "      <td>1</td>\n",
       "      <td>2</td>\n",
       "      <td>1</td>\n",
       "      <td>1</td>\n",
       "      <td>0</td>\n",
       "      <td>0</td>\n",
       "      <td>40</td>\n",
       "      <td>19</td>\n",
       "      <td>0</td>\n",
       "    </tr>\n",
       "  </tbody>\n",
       "</table>\n",
       "</div>"
      ],
      "text/plain": [
       "   age  workclass  fnlwgt  education  education-num  marital-status  \\\n",
       "0   37          6  112497         12             14               2   \n",
       "1   39          4  278557          8             11               2   \n",
       "2   33          4  173858          9             13               2   \n",
       "\n",
       "   occupation  relationship  race  sex  capital-gain  capital-loss  \\\n",
       "0           4             0     4    1             0             0   \n",
       "1           3             0     4    1             0          1628   \n",
       "2           1             2     1    1             0             0   \n",
       "\n",
       "   hours-per-week  native-country  income  \n",
       "0              50              39       1  \n",
       "1              48              39       0  \n",
       "2              40              19       0  "
      ]
     },
     "execution_count": 2,
     "metadata": {},
     "output_type": "execute_result"
    }
   ],
   "source": [
    "#Грузим датасет\n",
    "\n",
    "df= pd.read_csv('income_train.csv')\n",
    "\n",
    "display(df.head(2))\n",
    "\n",
    "\n",
    "display(df.isna().sum())\n",
    "\n",
    "#Перекодируем строковые значения\n",
    "le = LabelEncoder()\n",
    "\n",
    "display(df.columns)\n",
    "\n",
    "\n",
    "df[\"workclass\"] = le.fit_transform(df[\"workclass\"])\n",
    "df[\"education\"] = le.fit_transform(df[\"education\"])\n",
    "df[\"marital-status\"] = le.fit_transform(df[\"marital-status\"])\n",
    "df[\"occupation\"] = le.fit_transform(df[\"occupation\"])\n",
    "df[\"relationship\"] = le.fit_transform(df[\"relationship\"])\n",
    "df[\"race\"] = le.fit_transform(df[\"race\"])\n",
    "df[\"sex\"] = le.fit_transform(df[\"sex\"])\n",
    "df[\"native-country\"] = le.fit_transform(df[\"native-country\"])\n",
    "df[\"income\"]=le.fit_transform(df[\"income\"])\n",
    "\n",
    "\n",
    "df.head(3)"
   ]
  },
  {
   "cell_type": "code",
   "execution_count": 3,
   "id": "84b029fd",
   "metadata": {},
   "outputs": [],
   "source": [
    "#Выделяем X y\n",
    "X = df.drop('income',axis=1)\n",
    "y = df['income']\n",
    "\n",
    "\n",
    "#сплитуем данные\n",
    "\n",
    "X_train, X_test, y_train, y_test = train_test_split(X, y, random_state=10, test_size=0.2)\n",
    "\n",
    "#зададим модели из которых выберем лучшую\n",
    "\n",
    "dtc = DecisionTreeClassifier()\n",
    "reg = LogisticRegression()\n",
    "knn = KNeighborsClassifier()\n",
    "gbc = GradientBoostingClassifier()\n",
    "svc = SVC()\n",
    "\n"
   ]
  },
  {
   "cell_type": "code",
   "execution_count": 4,
   "id": "95c83547",
   "metadata": {
    "scrolled": true
   },
   "outputs": [
    {
     "name": "stdout",
     "output_type": "stream",
     "text": [
      "GradientBoostingClassifier(ccp_alpha=0.0, criterion='friedman_mse', init=None,\n",
      "                           learning_rate=0.1, loss='deviance', max_depth=3,\n",
      "                           max_features=None, max_leaf_nodes=None,\n",
      "                           min_impurity_decrease=0.0, min_impurity_split=None,\n",
      "                           min_samples_leaf=1, min_samples_split=2,\n",
      "                           min_weight_fraction_leaf=0.0, n_estimators=100,\n",
      "                           n_iter_no_change=None, presort='deprecated',\n",
      "                           random_state=None, subsample=1.0, tol=0.0001,\n",
      "                           validation_fraction=0.1, verbose=0,\n",
      "                           warm_start=False)\n",
      "score for train df 0.6898603799496452\n",
      "score for test df 0.6896247240618102\n",
      "              precision    recall  f1-score   support\n",
      "\n",
      "           0       0.88      0.95      0.91      3911\n",
      "           1       0.81      0.60      0.69      1299\n",
      "\n",
      "    accuracy                           0.87      5210\n",
      "   macro avg       0.84      0.78      0.80      5210\n",
      "weighted avg       0.86      0.87      0.86      5210\n",
      "\n",
      "[[3726  185]\n",
      " [ 518  781]]\n"
     ]
    }
   ],
   "source": [
    "#выберем лучшую модель из списка\n",
    "\n",
    "for i in [gbc, dtc, reg, knn, svc]:\n",
    "    i.fit(X_train, y_train)\n",
    "    pred = i.predict(X_test)\n",
    "    test_score = f1_score(y_test, pred)\n",
    "    train_score = f1_score(y_train, i.predict(X_train))\n",
    "    if abs(train_score - test_score) <= 0.01:\n",
    "        print(i)\n",
    "        print(\"score for train df\", f1_score(y_train, i.predict(X_train)))\n",
    "        print(\"score for test df\", f1_score(y_test, pred))\n",
    "        print(classification_report(y_test, pred))\n",
    "        print(confusion_matrix(y_test, pred))"
   ]
  },
  {
   "cell_type": "code",
   "execution_count": 5,
   "id": "16a33e01",
   "metadata": {},
   "outputs": [
    {
     "data": {
      "image/png": "[encoded data removed]",
      "text/plain": [
       "<Figure size 432x288 with 1 Axes>"
      ]
     },
     "metadata": {
      "needs_background": "light"
     },
     "output_type": "display_data"
    }
   ],
   "source": [
    "learning_rates = [1, 0.5, 0.25, 0.1, 0.05, 0.01]\n",
    "\n",
    "train_results = []\n",
    "test_results = []\n",
    "for eta in learning_rates:\n",
    "   model = GradientBoostingClassifier(learning_rate=eta)\n",
    "   model.fit(X_train, y_train)\n",
    "   train_pred = model.predict(X_train)\n",
    "   false_positive_rate, true_positive_rate, thresholds = roc_curve(y_train, train_pred)\n",
    "   roc_auc = auc(false_positive_rate, true_positive_rate)\n",
    "   train_results.append(roc_auc)\n",
    "   y_pred = model.predict(X_test)\n",
    "   false_positive_rate, true_positive_rate, thresholds = roc_curve(y_test, y_pred)\n",
    "   roc_auc = auc(false_positive_rate, true_positive_rate)\n",
    "   test_results.append(roc_auc)\n",
    "from matplotlib.legend_handler import HandlerLine2D\n",
    "line1, = plt.plot(learning_rates, train_results, 'b', label= 'Train AUC')\n",
    "line2, = plt.plot(learning_rates, test_results, \"r\", label= \"Test AUC\")\n",
    "plt.legend(handler_map={line1: HandlerLine2D(numpoints=2)})\n",
    "\n",
    "plt.ylabel(\"‘AUC score’\")\n",
    "plt.xlabel(\"‘learning rate’\")\n",
    "plt.show()\n",
    "\n",
    "#оптимально 0.1"
   ]
  },
  {
   "cell_type": "code",
   "execution_count": 6,
   "id": "8cffec6c",
   "metadata": {},
   "outputs": [
    {
     "name": "stderr",
     "output_type": "stream",
     "text": [
      "No handles with labels found to put in legend.\n"
     ]
    },
    {
     "data": {
      "image/png": "[encoded data removed]",
      "text/plain": [
       "<Figure size 432x288 with 1 Axes>"
      ]
     },
     "metadata": {
      "needs_background": "light"
     },
     "output_type": "display_data"
    }
   ],
   "source": [
    "n_estimators = [32, 64, 100, 200, 500, 1000, 1200, 1500, 1700, 1900]\n",
    "train_results = []\n",
    "test_results = []\n",
    "for estimator in n_estimators:\n",
    "   model = GradientBoostingClassifier(n_estimators=estimator)\n",
    "   model.fit(X_train, y_train)\n",
    "   train_pred = model.predict(X_train)\n",
    "   false_positive_rate, true_positive_rate, thresholds = roc_curve(y_train, train_pred)\n",
    "   roc_auc = auc(false_positive_rate, true_positive_rate)\n",
    "   train_results.append(roc_auc)\n",
    "   y_pred = model.predict(X_test)\n",
    "   false_positive_rate, true_positive_rate, thresholds = roc_curve(y_test, y_pred)\n",
    "   roc_auc = auc(false_positive_rate, true_positive_rate)\n",
    "   test_results.append(roc_auc)\n",
    "from matplotlib.legend_handler import HandlerLine2D\n",
    "line1, = plt.plot(n_estimators, train_results)\n",
    "line2, = plt.plot(n_estimators, test_results)\n",
    "plt.legend(handler_map={line1: HandlerLine2D(numpoints=2)})\n",
    "plt.ylabel(\"AUC score\")\n",
    "plt.xlabel(\"n_estimators\")\n",
    "plt.show()\n",
    "\n",
    "#оптимально 500, дальше есть риск переобучения"
   ]
  },
  {
   "cell_type": "code",
   "execution_count": 7,
   "id": "1308ade3",
   "metadata": {
    "scrolled": true
   },
   "outputs": [
    {
     "data": {
      "image/png": "[encoded data removed]",
      "text/plain": [
       "<Figure size 432x288 with 1 Axes>"
      ]
     },
     "metadata": {
      "needs_background": "light"
     },
     "output_type": "display_data"
    }
   ],
   "source": [
    "max_depths = np.linspace(1, 32, 32, endpoint=True)\n",
    "train_results = []\n",
    "test_results = []\n",
    "for max_depth in max_depths:\n",
    "   model = GradientBoostingClassifier(max_depth=max_depth)\n",
    "   model.fit(X_train, y_train)\n",
    "   train_pred = model.predict(X_train)\n",
    "   false_positive_rate, true_positive_rate, thresholds = roc_curve(y_train, train_pred)\n",
    "   roc_auc = auc(false_positive_rate, true_positive_rate)\n",
    "   train_results.append(roc_auc)\n",
    "   y_pred = model.predict(X_test)\n",
    "   false_positive_rate, true_positive_rate, thresholds = roc_curve(y_test, y_pred)\n",
    "   roc_auc = auc(false_positive_rate, true_positive_rate)\n",
    "   test_results.append(roc_auc)\n",
    "from matplotlib.legend_handler import HandlerLine2D\n",
    "line1, = plt.plot(max_depths, train_results, \"b\", label=\"Train AUC\")\n",
    "line2, = plt.plot(max_depths, test_results, \"r\", label=\"Test AUC\")\n",
    "plt.legend(handler_map={line1: HandlerLine2D(numpoints=2)})\n",
    "plt.ylabel(\"‘AUC score’\")\n",
    "plt.xlabel(\"‘Tree depth’\")\n",
    "plt.show()\n",
    "\n",
    "#оптимально 5"
   ]
  },
  {
   "cell_type": "code",
   "execution_count": 8,
   "id": "6fac1866",
   "metadata": {},
   "outputs": [
    {
     "name": "stdout",
     "output_type": "stream",
     "text": [
      "GradientBoostingClassifier(ccp_alpha=0.0, criterion='friedman_mse', init=None,\n",
      "                           learning_rate=0.1, loss='deviance', max_depth=5,\n",
      "                           max_features=None, max_leaf_nodes=None,\n",
      "                           min_impurity_decrease=0.0, min_impurity_split=None,\n",
      "                           min_samples_leaf=1, min_samples_split=2,\n",
      "                           min_weight_fraction_leaf=0.0, n_estimators=200,\n",
      "                           n_iter_no_change=None, presort='deprecated',\n",
      "                           random_state=None, subsample=1.0, tol=0.0001,\n",
      "                           validation_fraction=0.1, verbose=0,\n",
      "                           warm_start=False)\n",
      "{'learning_rate': 0.1, 'max_depth': 5, 'n_estimators': 200}\n",
      "F1_score train of GradientBoostingClassifier model = 77.53 %\n",
      "F1_score test of GradientBoostingClassifier model = 73.14 %\n",
      "              precision    recall  f1-score   support\n",
      "\n",
      "           0       0.90      0.95      0.92      3911\n",
      "           1       0.81      0.67      0.73      1299\n",
      "\n",
      "    accuracy                           0.88      5210\n",
      "   macro avg       0.85      0.81      0.83      5210\n",
      "weighted avg       0.87      0.88      0.87      5210\n",
      "\n",
      "[[3701  210]\n",
      " [ 429  870]]\n"
     ]
    }
   ],
   "source": [
    "#тюнингуем полученную модель\n",
    "\n",
    "kfold = KFold(n_splits =10, shuffle = True)\n",
    "n_estimators=[200, 500, 510]\n",
    "learning_rate=[0.01, 0.1]\n",
    "max_depth=[2,3,5]\n",
    "params={'n_estimators':n_estimators,'learning_rate':learning_rate,'max_depth':max_depth}\n",
    "\n",
    "grid_gbc=GridSearchCV(gbc,param_grid=params, cv = kfold, scoring = \"f1\", n_jobs=-1 )\n",
    "\n",
    "grid_gbc.fit(X_train,y_train)\n",
    "\n",
    "print(grid_gbc.best_estimator_)\n",
    "print(grid_gbc.best_params_)\n",
    "\n",
    "pred_1 = grid_gbc.predict(X_test)\n",
    "\n",
    "\n",
    "print(\"F1_score train of GradientBoostingClassifier model = {} %\".format(round(metrics.f1_score(y_train,grid_gbc.predict(X_train))*100,2)))\n",
    "print(\"F1_score test of GradientBoostingClassifier model = {} %\".format(round(metrics.f1_score(y_test,pred_1)*100,2)))\n",
    "\n",
    "\n",
    "print(classification_report(y_test, pred_1))\n",
    "print(confusion_matrix(y_test, pred_1))\n",
    "\n",
    "#модель улучшилась "
   ]
  },
  {
   "cell_type": "code",
   "execution_count": 9,
   "id": "0a2e0a65",
   "metadata": {
    "scrolled": true
   },
   "outputs": [
    {
     "name": "stdout",
     "output_type": "stream",
     "text": [
      "GradientBoostingClassifier: ROC AUC=0.929\n"
     ]
    },
    {
     "data": {
      "image/png": "[encoded data removed]",
      "text/plain": [
       "<Figure size 432x288 with 1 Axes>"
      ]
     },
     "metadata": {
      "needs_background": "light"
     },
     "output_type": "display_data"
    }
   ],
   "source": [
    "lr_probs = grid_gbc.predict_proba(X_test)\n",
    "\n",
    "# сохраняем вероятности только для положительного исхода\n",
    "lr_probs = lr_probs[:, 1]\n",
    "\n",
    "# рассчитываем ROC AUC\n",
    "lr_auc = roc_auc_score(y_test, lr_probs)\n",
    "print('GradientBoostingClassifier: ROC AUC=%.3f' % (lr_auc))\n",
    "\n",
    "# рассчитываем roc-кривую\n",
    "fpr, tpr, treshold = roc_curve(y_test, lr_probs)\n",
    "roc_auc = auc(fpr, tpr)\n",
    "\n",
    "# строим график\n",
    "plt.plot(fpr, tpr, color='darkorange',\n",
    "         label='ROC кривая (area = %0.2f)' % roc_auc)\n",
    "plt.plot([0, 1], [0, 1], color='navy', linestyle='--')\n",
    "plt.xlim([0.0, 1.0])\n",
    "plt.ylim([0.0, 1.05])\n",
    "plt.xlabel('False Positive Rate')\n",
    "plt.ylabel('True Positive Rate')\n",
    "plt.title('Пример ROC-кривой')\n",
    "plt.legend(loc=\"lower right\")\n",
    "plt.show()"
   ]
  },
  {
   "cell_type": "code",
   "execution_count": 11,
   "id": "37f82b23",
   "metadata": {},
   "outputs": [
    {
     "name": "stdout",
     "output_type": "stream",
     "text": [
      "Правильность на тестовом наборе: 0.900\n"
     ]
    }
   ],
   "source": [
    "pipeline_final = make_pipeline(GradientBoostingClassifier(ccp_alpha=0.0, criterion='friedman_mse', init=None,\n",
    "                           learning_rate=0.1, loss='deviance', max_depth=5,\n",
    "                           max_features=None, max_leaf_nodes=None,\n",
    "                           min_impurity_decrease=0.0, min_impurity_split=None,\n",
    "                           min_samples_leaf=1, min_samples_split=2,\n",
    "                           min_weight_fraction_leaf=0.0, n_estimators=200,\n",
    "                           n_iter_no_change=None, presort='deprecated',\n",
    "                           random_state=None, subsample=1.0, tol=0.0001,\n",
    "                           validation_fraction=0.1, verbose=0,\n",
    "                           warm_start=False))\n",
    "\n",
    "pipeline_final.fit(X, y)\n",
    "\n",
    "df_test = pd.read_csv(\"income_test.csv\")\n",
    "\n",
    "\n",
    "df_test[\"workclass\"] = le.fit_transform(df_test[\"workclass\"])\n",
    "df_test[\"education\"] = le.fit_transform(df_test[\"education\"])\n",
    "df_test[\"marital-status\"] = le.fit_transform(df_test[\"marital-status\"])\n",
    "df_test[\"occupation\"] = le.fit_transform(df_test[\"occupation\"])\n",
    "df_test[\"relationship\"] = le.fit_transform(df_test[\"relationship\"])\n",
    "df_test[\"race\"] = le.fit_transform(df_test[\"race\"])\n",
    "df_test[\"sex\"] = le.fit_transform(df_test[\"sex\"])\n",
    "df_test[\"native-country\"] = le.fit_transform(df_test[\"native-country\"])\n",
    "\n",
    "\n",
    "\n",
    "y_predict = pipeline_final.predict(df_test)\n",
    "\n",
    "\n",
    "print('Правильность на тестовом наборе: {:.3f}'.format(pipeline_final.score(X_test, y_test)))"
   ]
  },
  {
   "cell_type": "code",
   "execution_count": null,
   "id": "8d11bce7",
   "metadata": {},
   "outputs": [],
   "source": []
  }
 ],
 "metadata": {
  "kernelspec": {
   "display_name": "Python 3",
   "language": "python",
   "name": "python3"
  },
  "language_info": {
   "codemirror_mode": {
    "name": "ipython",
    "version": 3
   },
   "file_extension": ".py",
   "mimetype": "text/x-python",
   "name": "python",
   "nbconvert_exporter": "python",
   "pygments_lexer": "ipython3",
   "version": "3.8.8"
  }
 },
 "nbformat": 4,
 "nbformat_minor": 5
}
